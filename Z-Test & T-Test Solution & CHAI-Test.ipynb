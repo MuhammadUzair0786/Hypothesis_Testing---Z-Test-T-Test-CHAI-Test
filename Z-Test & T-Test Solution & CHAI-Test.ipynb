{
 "cells": [
  {
   "cell_type": "markdown",
   "id": "d977bbc5",
   "metadata": {},
   "source": [
    "✅ 2. Keyword Trick\n",
    "Watch for keywords:\n",
    "\n",
    "Less than / Decrease → Hₐ: μ < ... → Left-tailed\n",
    "\n",
    "Greater than / Increase → Hₐ: μ > ... → Right-tailed\n",
    "\n",
    "Not equal / Different → Hₐ: μ ≠ ... → Two-tailed"
   ]
  },
  {
   "cell_type": "markdown",
   "id": "6596cece",
   "metadata": {},
   "source": [
    "# Z-Test"
   ]
  },
  {
   "cell_type": "markdown",
   "id": "2d1f4232",
   "metadata": {},
   "source": [
    "Practice Example: One-Sample Z-Test\n",
    "A company claims that the average salary of its employees is PKR 50,000 per month. A labor rights group believes this is an overstatement. To test this, they take a random sample of 40 employees and find that the sample mean salary is PKR 47,500 with a standard deviation of PKR 6,000.\n",
    "\n",
    "Using a significance level of 0.05, test the claim of the company."
   ]
  },
  {
   "cell_type": "code",
   "execution_count": 1,
   "id": "d2f7c0d6",
   "metadata": {},
   "outputs": [],
   "source": [
    "# H0 salry_emp = 50000 company is right\n",
    "# Ha salary_emp < 50000 labour is right"
   ]
  },
  {
   "cell_type": "code",
   "execution_count": 2,
   "id": "04184ef2",
   "metadata": {},
   "outputs": [],
   "source": [
    "import scipy.stats as st\n",
    "import numpy as np"
   ]
  },
  {
   "cell_type": "code",
   "execution_count": 3,
   "id": "387488a0",
   "metadata": {},
   "outputs": [],
   "source": [
    "no_of_sample =40  # sample >30 so apply z-test\n",
    "sample_mean_x =47500\n",
    "pop_mean_mue =50000\n",
    "std =6000\n",
    "alpha =0.05"
   ]
  },
  {
   "cell_type": "code",
   "execution_count": 4,
   "id": "0e4e723c",
   "metadata": {},
   "outputs": [
    {
     "name": "stdout",
     "output_type": "stream",
     "text": [
      "z_table value :-1.6448536269514729\n"
     ]
    }
   ],
   "source": [
    "z_table =st.norm.ppf(alpha)\n",
    "print(f\"z_table value :{z_table}\")"
   ]
  },
  {
   "cell_type": "code",
   "execution_count": 5,
   "id": "e3d7eb8c",
   "metadata": {},
   "outputs": [
    {
     "data": {
      "text/plain": [
       "-2.63523138347365"
      ]
     },
     "execution_count": 5,
     "metadata": {},
     "output_type": "execute_result"
    }
   ],
   "source": [
    "z_cal =(sample_mean_x-pop_mean_mue)/(std/np.sqrt(no_of_sample))\n",
    "z_cal"
   ]
  },
  {
   "cell_type": "code",
   "execution_count": null,
   "id": "191d0a07",
   "metadata": {},
   "outputs": [
    {
     "name": "stdout",
     "output_type": "stream",
     "text": [
      "Ha labour is right average salry is less than 50000\n"
     ]
    }
   ],
   "source": [
    "if z_cal < z_table:\n",
    "    print(\"Ha labour is right average salry is less than 50000\")\n",
    "else:\n",
    "    print(\"H0 is right company is right salary is greater than 50000\")"
   ]
  },
  {
   "cell_type": "code",
   "execution_count": null,
   "id": "ba31283d",
   "metadata": {},
   "outputs": [],
   "source": []
  },
  {
   "cell_type": "markdown",
   "id": "cac5fe7a",
   "metadata": {},
   "source": [
    "# T-Test"
   ]
  },
  {
   "cell_type": "markdown",
   "id": "db66f14f",
   "metadata": {},
   "source": [
    "📘 T-Test Practice Scenario (One-Sample t-test)\n",
    "A university claims that its students study an average of 15 hours per week. You believe students actually study less than that.\n",
    "\n",
    "You take a random sample of 10 students, and find that their average study time is 13 hours/week, with a sample standard deviation of 2.5 hours.\n",
    "\n",
    "Using a significance level of 0.05, test the claim of the university."
   ]
  },
  {
   "cell_type": "code",
   "execution_count": null,
   "id": "48661d2d",
   "metadata": {},
   "outputs": [],
   "source": [
    "# H0  students_study =15 hours # university claim\n",
    "# Ha  student_study < 15 hours  #student claim (this is left tailed)"
   ]
  },
  {
   "cell_type": "code",
   "execution_count": null,
   "id": "1f7046d5",
   "metadata": {},
   "outputs": [],
   "source": [
    "sample_no_student =10\n",
    "sample_mean_x_bar =13\n",
    "pop_mean =15\n",
    "s =2.5\n",
    "alpha =0.05"
   ]
  },
  {
   "cell_type": "code",
   "execution_count": null,
   "id": "d35778ea",
   "metadata": {},
   "outputs": [],
   "source": [
    "df = sample_no_student - 1  # degrees of freedom = 9"
   ]
  },
  {
   "cell_type": "code",
   "execution_count": null,
   "id": "ac383341",
   "metadata": {},
   "outputs": [],
   "source": [
    "t_table =st.t.ppf(alpha,df)\n",
    "print(f\"z_table value :{z_table}\")"
   ]
  },
  {
   "cell_type": "code",
   "execution_count": null,
   "id": "308b77c3",
   "metadata": {},
   "outputs": [],
   "source": [
    "t_cal =(sample_mean_x_bar-pop_mean)/(s/np.sqrt(sample_no_student))\n",
    "print(f\"Z_cal is : {z_cal}\")"
   ]
  },
  {
   "cell_type": "code",
   "execution_count": null,
   "id": "2bf915b8",
   "metadata": {},
   "outputs": [],
   "source": [
    "if t_cal < t_table :\n",
    "    print(\"Ha Student is right student hour is less than 15 hours a week\")\n",
    "else:\n",
    "    print(\"H0 university is right student hour us 15 houra\")\n"
   ]
  },
  {
   "cell_type": "code",
   "execution_count": null,
   "id": "5b2b7fa5",
   "metadata": {},
   "outputs": [],
   "source": []
  },
  {
   "cell_type": "markdown",
   "id": "7581bb70",
   "metadata": {},
   "source": [
    "# CHAI Test"
   ]
  },
  {
   "cell_type": "markdown",
   "id": "2fe1e8e9",
   "metadata": {},
   "source": [
    "✅ Decision Rule for Hypothesis Testing:\n",
    "\n",
    "If CHAI_calculate > CHAI_table ⇒ Ha is right\n",
    "\n",
    "If CHAI_calculate ≤ CHAI_table ⇒ H0 is right"
   ]
  },
  {
   "cell_type": "code",
   "execution_count": null,
   "id": "041f0d06",
   "metadata": {},
   "outputs": [],
   "source": [
    "# H0 distribution of user evenly spread\n",
    "# Ha distribution of user not evenly spread"
   ]
  },
  {
   "cell_type": "code",
   "execution_count": null,
   "id": "9a177a5b",
   "metadata": {},
   "outputs": [],
   "source": [
    "total_no_sample =4\n",
    "alpha =0.05\n",
    "\n",
    "obeservation_value =np.array([30,20,25,25])\n",
    "expexted_value =np.array([25,25,25,25])"
   ]
  },
  {
   "cell_type": "code",
   "execution_count": null,
   "id": "7058fc47",
   "metadata": {},
   "outputs": [],
   "source": [
    "df =total_no_sample-1\n",
    "df"
   ]
  },
  {
   "cell_type": "code",
   "execution_count": null,
   "id": "c96df3cf",
   "metadata": {},
   "outputs": [],
   "source": [
    "#Calculate CHAI table value\n",
    "CHAI_table =st.chi2.ppf(1 - alpha, df)\n",
    "print(f\"CHAI Table Value is :{CHAI_table}\")"
   ]
  },
  {
   "cell_type": "code",
   "execution_count": null,
   "id": "7f6513df",
   "metadata": {},
   "outputs": [],
   "source": [
    "#Calculate CHAI calculate\n",
    "\n",
    "CHAI_calculate =np.sum(np.square(obeservation_value-expexted_value)/expexted_value)\n",
    "print(f\"CHAI_calculate Value is :{CHAI_calculate}\")"
   ]
  },
  {
   "cell_type": "code",
   "execution_count": null,
   "id": "cdad0954",
   "metadata": {},
   "outputs": [],
   "source": [
    "if CHAI_calculate < CHAI_table:\n",
    "    print('H0 distribution of user evenly spread')\n",
    "else:\n",
    "    print('Ha distribution of user not evenly spread')"
   ]
  },
  {
   "cell_type": "code",
   "execution_count": null,
   "id": "7d55a4b0",
   "metadata": {},
   "outputs": [],
   "source": []
  },
  {
   "cell_type": "code",
   "execution_count": null,
   "id": "396bcbab",
   "metadata": {},
   "outputs": [],
   "source": []
  }
 ],
 "metadata": {
  "kernelspec": {
   "display_name": "Python 3 (ipykernel)",
   "language": "python",
   "name": "python3"
  },
  "language_info": {
   "codemirror_mode": {
    "name": "ipython",
    "version": 3
   },
   "file_extension": ".py",
   "mimetype": "text/x-python",
   "name": "python",
   "nbconvert_exporter": "python",
   "pygments_lexer": "ipython3",
   "version": "3.9.12"
  }
 },
 "nbformat": 4,
 "nbformat_minor": 5
}
